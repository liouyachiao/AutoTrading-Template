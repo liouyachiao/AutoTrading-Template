{
 "cells": [
  {
   "cell_type": "code",
   "execution_count": 3,
   "id": "14dd4578",
   "metadata": {},
   "outputs": [],
   "source": [
    "# 以覆寫模式開啟檔案\n",
    "f = open(\"output1.csv\", \"w\")\n",
    "\n",
    "# 寫入資料\n",
    "f.write(\"這是要寫入的資料\\n\")\n",
    "f.write(\"這是第二行資料\\n\")\n",
    "\n",
    "# 關閉檔案\n",
    "f.close()"
   ]
  },
  {
   "cell_type": "code",
   "execution_count": null,
   "id": "cde213ea",
   "metadata": {},
   "outputs": [],
   "source": []
  }
 ],
 "metadata": {
  "kernelspec": {
   "display_name": "Python 3 (ipykernel)",
   "language": "python",
   "name": "python3"
  },
  "language_info": {
   "codemirror_mode": {
    "name": "ipython",
    "version": 3
   },
   "file_extension": ".py",
   "mimetype": "text/x-python",
   "name": "python",
   "nbconvert_exporter": "python",
   "pygments_lexer": "ipython3",
   "version": "3.9.7"
  }
 },
 "nbformat": 4,
 "nbformat_minor": 5
}

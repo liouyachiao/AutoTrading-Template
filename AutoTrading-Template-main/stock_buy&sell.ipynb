{
 "cells": [
  {
   "cell_type": "code",
   "execution_count": 207,
   "id": "d36941e3",
   "metadata": {},
   "outputs": [],
   "source": [
    "import csv\n",
    "import numpy as np\n",
    "import pandas as pd\n",
    "import sklearn\n",
    "import statistics"
   ]
  },
  {
   "cell_type": "code",
   "execution_count": 208,
   "id": "baf9ca2f",
   "metadata": {},
   "outputs": [],
   "source": [
    "if __name__ == \"__main__\":\n",
    "    # You should not modify this part.\n",
    "    import argparse\n",
    "\n",
    "    parser = argparse.ArgumentParser()\n",
    "    parser.add_argument(\"--training\", default=\"training_data.csv\", help=\"input training data file name\")\n",
    "    parser.add_argument(\"--testing\", default=\"testing_data.csv\", help=\"input testing data file name\")\n",
    "    parser.add_argument(\"--output\", default=\"output.csv\", help=\"output file name\")\n",
    "    args = parser.parse_args(args=[]),"
   ]
  },
  {
   "cell_type": "code",
   "execution_count": 209,
   "id": "b2c93b74",
   "metadata": {},
   "outputs": [],
   "source": [
    "FEATURE_NAMES = ('open', 'high', 'low', 'close')\n",
    "training = pd.read_csv('training_data.csv', names=FEATURE_NAMES)"
   ]
  },
  {
   "cell_type": "code",
   "execution_count": 210,
   "id": "5f3a4093",
   "metadata": {},
   "outputs": [],
   "source": [
    "FEATURE_NAMES = ('open', 'high', 'low', 'close')\n",
    "testing = pd.read_csv('testing_data.csv', names=FEATURE_NAMES)"
   ]
  },
  {
   "cell_type": "code",
   "execution_count": 211,
   "id": "e921c00c",
   "metadata": {},
   "outputs": [],
   "source": [
    "training['new']= training['open']-training['close']"
   ]
  },
  {
   "cell_type": "code",
   "execution_count": 212,
   "id": "21c7152e",
   "metadata": {},
   "outputs": [],
   "source": [
    "tr = statistics.stdev(training['new'])"
   ]
  },
  {
   "cell_type": "code",
   "execution_count": 213,
   "id": "2c2f080e",
   "metadata": {},
   "outputs": [
    {
     "data": {
      "text/plain": [
       "0.5882725251559258"
      ]
     },
     "execution_count": 213,
     "metadata": {},
     "output_type": "execute_result"
    }
   ],
   "source": [
    "tr"
   ]
  },
  {
   "cell_type": "code",
   "execution_count": 259,
   "id": "2615e800",
   "metadata": {},
   "outputs": [],
   "source": [
    "testing['new']= testing['open']-testing['close']"
   ]
  },
  {
   "cell_type": "code",
   "execution_count": 280,
   "id": "0d4f7fcf",
   "metadata": {},
   "outputs": [],
   "source": [
    "BUY = 1\n",
    "NO_ACTION = 0\n",
    "SOLD = -1"
   ]
  },
  {
   "cell_type": "code",
   "execution_count": 291,
   "id": "3b3b5cc7",
   "metadata": {},
   "outputs": [],
   "source": [
    "#number of stock\n",
    "num = 0\n",
    "sum_price = 0\n",
    "f=open('output.csv', 'wt', newline='')\n",
    "for i in range(len(testing)):\n",
    "    if i < 19:\n",
    "        if testing['new'][i] < 0:\n",
    "            if num > 0:\n",
    "                print (0,file=f)\n",
    "            else:\n",
    "                print (1,file=f)\n",
    "                num+=1\n",
    "            #sum_price = sum_price + testing['open'][i+1]\n",
    "        elif tr > testing['new'][i] > 0:\n",
    "                print (0,file=f)\n",
    "        else:\n",
    "            if num < 0:\n",
    "                print (-1,file=f)\n",
    "            else:\n",
    "                print (0,file=f)\n",
    "                num-=1    \n",
    "f.close()"
   ]
  },
  {
   "cell_type": "code",
   "execution_count": null,
   "id": "d0819e6c",
   "metadata": {},
   "outputs": [],
   "source": []
  },
  {
   "cell_type": "code",
   "execution_count": null,
   "id": "05df96e3",
   "metadata": {},
   "outputs": [],
   "source": []
  }
 ],
 "metadata": {
  "kernelspec": {
   "display_name": "Python 3.11.0a2 64-bit",
   "language": "python",
   "name": "python3"
  },
  "language_info": {
   "codemirror_mode": {
    "name": "ipython",
    "version": 3
   },
   "file_extension": ".py",
   "mimetype": "text/x-python",
   "name": "python",
   "nbconvert_exporter": "python",
   "pygments_lexer": "ipython3",
   "version": "3.11.0"
  },
  "vscode": {
   "interpreter": {
    "hash": "ed23a7e931e2b935926de3d2e2bee9c396e5656690b335e0aaf8fbbbd5ab864e"
   }
  }
 },
 "nbformat": 4,
 "nbformat_minor": 5
}
